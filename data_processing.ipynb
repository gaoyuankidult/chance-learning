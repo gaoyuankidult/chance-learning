{
 "cells": [
  {
   "cell_type": "code",
   "execution_count": 82,
   "metadata": {
    "collapsed": true
   },
   "outputs": [],
   "source": [
    "import csv\n",
    "import pandas as pd\n",
    "import numpy as np\n",
    "from math import *"
   ]
  },
  {
   "cell_type": "code",
   "execution_count": 158,
   "metadata": {},
   "outputs": [],
   "source": [
    "filename = 'OD_EU_Cellular_100m.csv'\n",
    "with open(filename, 'r') as f:\n",
    "    raw_data_100m = csv.reader(f)\n",
    "    raw_data_100m_list = list(raw_data_100m)\n",
    "    raw_data_100m_list = np.array(raw_data_100m_list)\n",
    "    \n",
    "sample_num = len(raw_data_100m_list)\n",
    "    \n",
    "raw_data_100m_dict = {'Cell grid code': np.array(raw_data_100m_list[:,0]),\n",
    "                      'X coordinate (int)': np.array(raw_data_100m_list[:,1]),\n",
    "                      'Y coordinate (int)': np.array(raw_data_100m_list[:,2]),\n",
    "                      'Technology of connection': np.array(raw_data_100m_list[:,3]),\n",
    "                      'Signal strength (dBm)': np.array(map(float,raw_data_100m_list[:,4])),\n",
    "                      'Standard deviation': np.array(raw_data_100m_list[:,5]),\n",
    "                      'Measurements': np.array(raw_data_100m_list[:,6])\n",
    "                     }"
   ]
  },
  {
   "cell_type": "code",
   "execution_count": 142,
   "metadata": {
    "collapsed": true
   },
   "outputs": [],
   "source": [
    "def dB2Linear( snr_in_dB ):\n",
    "    snr_in_linear = np.power( 10, snr_in_dB/10 )\n",
    "    return snr_in_linear"
   ]
  },
  {
   "cell_type": "code",
   "execution_count": 183,
   "metadata": {},
   "outputs": [],
   "source": [
    "# band = 900 * 1e3\n",
    "# noise = 1000 * 1e-15\n",
    "\n",
    "# def user_rate(sample_index):\n",
    "#     signal = raw_data_100m_dict['Signal strength (dBm)'][sample_index]\n",
    "#     return ( band * log(1+dB2Linear(signal)/noise, 2.0) ) / 1e6 # Mbps\n",
    "\n",
    "# sample_rate_list = np.array([user_rate(i) for i in range(sample_num)])"
   ]
  },
  {
   "cell_type": "code",
   "execution_count": 207,
   "metadata": {},
   "outputs": [],
   "source": [
    "user_num = 10\n",
    "per_user_sample_num = sample_num / user_num\n",
    "user_signal_list_dB = np.array( [ [ raw_data_100m_dict['Signal strength (dBm)'][i*per_user_sample_num + j ] \n",
    "                                for j in range(per_user_sample_num) ] for i in range(user_num) ] )"
   ]
  },
  {
   "cell_type": "code",
   "execution_count": 208,
   "metadata": {},
   "outputs": [],
   "source": [
    "user_signal_list = map(dB2Linear, user_signal_list_dB) \n",
    "# row is for each user, and there is 10 rows in total (i.e. 10 users in total)\n",
    "# column is for sample, and for each user there is 15950 samples in total"
   ]
  }
 ],
 "metadata": {
  "kernelspec": {
   "display_name": "Python 2",
   "language": "python",
   "name": "python2"
  },
  "language_info": {
   "codemirror_mode": {
    "name": "ipython",
    "version": 2
   },
   "file_extension": ".py",
   "mimetype": "text/x-python",
   "name": "python",
   "nbconvert_exporter": "python",
   "pygments_lexer": "ipython2",
   "version": "2.7.14"
  }
 },
 "nbformat": 4,
 "nbformat_minor": 2
}
